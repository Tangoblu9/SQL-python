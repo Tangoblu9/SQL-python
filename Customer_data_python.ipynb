{
 "cells": [
  {
   "cell_type": "markdown",
   "id": "65b34d3f",
   "metadata": {},
   "source": [
    "### Customer data from SQL query \"customer_data.sql\" "
   ]
  },
  {
   "cell_type": "markdown",
   "id": "79869a05",
   "metadata": {},
   "source": [
    "This is to analyze data output from DVD rental database - Customer view\n",
    "Data extracted from PostgreSQL query was saved as excel file and imported as per below.\n",
    "\n",
    "!!! All data comes from made-up database. Data set does not include real values. "
   ]
  },
  {
   "cell_type": "code",
   "execution_count": 5,
   "id": "cb22420f",
   "metadata": {},
   "outputs": [],
   "source": [
    "import pandas as pd\n",
    "import numpy as np\n",
    "#Visual\n",
    "import matplotlib.pyplot as plt\n",
    "%matplotlib inline\n",
    "import seaborn as sns"
   ]
  },
  {
   "cell_type": "code",
   "execution_count": 6,
   "id": "5b069ba5",
   "metadata": {},
   "outputs": [
    {
     "data": {
      "text/html": [
       "<div>\n",
       "<style scoped>\n",
       "    .dataframe tbody tr th:only-of-type {\n",
       "        vertical-align: middle;\n",
       "    }\n",
       "\n",
       "    .dataframe tbody tr th {\n",
       "        vertical-align: top;\n",
       "    }\n",
       "\n",
       "    .dataframe thead th {\n",
       "        text-align: right;\n",
       "    }\n",
       "</style>\n",
       "<table border=\"1\" class=\"dataframe\">\n",
       "  <thead>\n",
       "    <tr style=\"text-align: right;\">\n",
       "      <th></th>\n",
       "      <th>customer_id</th>\n",
       "      <th>customer_spent</th>\n",
       "      <th>first_name</th>\n",
       "      <th>last_name</th>\n",
       "      <th>full_name</th>\n",
       "      <th>address_id</th>\n",
       "      <th>district</th>\n",
       "      <th>city_id</th>\n",
       "      <th>city</th>\n",
       "    </tr>\n",
       "  </thead>\n",
       "  <tbody>\n",
       "    <tr>\n",
       "      <th>0</th>\n",
       "      <td>148</td>\n",
       "      <td>211.55</td>\n",
       "      <td>Eleanor</td>\n",
       "      <td>Hunt</td>\n",
       "      <td>Eleanor Hunt</td>\n",
       "      <td>152</td>\n",
       "      <td>Saint-Denis</td>\n",
       "      <td>442</td>\n",
       "      <td>Saint-Denis</td>\n",
       "    </tr>\n",
       "    <tr>\n",
       "      <th>1</th>\n",
       "      <td>526</td>\n",
       "      <td>208.58</td>\n",
       "      <td>Karl</td>\n",
       "      <td>Seal</td>\n",
       "      <td>Karl Seal</td>\n",
       "      <td>532</td>\n",
       "      <td>Florida</td>\n",
       "      <td>101</td>\n",
       "      <td>Cape Coral</td>\n",
       "    </tr>\n",
       "    <tr>\n",
       "      <th>2</th>\n",
       "      <td>178</td>\n",
       "      <td>194.61</td>\n",
       "      <td>Marion</td>\n",
       "      <td>Snyder</td>\n",
       "      <td>Marion Snyder</td>\n",
       "      <td>182</td>\n",
       "      <td>So Paulo</td>\n",
       "      <td>456</td>\n",
       "      <td>Santa Brbara dOeste</td>\n",
       "    </tr>\n",
       "  </tbody>\n",
       "</table>\n",
       "</div>"
      ],
      "text/plain": [
       "   customer_id  customer_spent first_name last_name      full_name  \\\n",
       "0          148          211.55    Eleanor      Hunt   Eleanor Hunt   \n",
       "1          526          208.58       Karl      Seal      Karl Seal   \n",
       "2          178          194.61     Marion    Snyder  Marion Snyder   \n",
       "\n",
       "   address_id     district  city_id                 city  \n",
       "0         152  Saint-Denis      442          Saint-Denis  \n",
       "1         532      Florida      101           Cape Coral  \n",
       "2         182     So Paulo      456  Santa Brbara dOeste  "
      ]
     },
     "execution_count": 6,
     "metadata": {},
     "output_type": "execute_result"
    }
   ],
   "source": [
    "customer = pd.read_excel('customer_data_from_sql.xlsx')\n",
    "customer.head(3)"
   ]
  },
  {
   "cell_type": "code",
   "execution_count": 12,
   "id": "f302cfdb",
   "metadata": {},
   "outputs": [
    {
     "data": {
      "text/plain": [
       "61312.04"
      ]
     },
     "execution_count": 12,
     "metadata": {},
     "output_type": "execute_result"
    }
   ],
   "source": [
    "#total amount expendiure from all customers in $ currency.\n",
    "total_amount_spent = customer[\"customer_spent\"].sum()\n",
    "customer[\"customer_spent\"].sum()"
   ]
  },
  {
   "cell_type": "code",
   "execution_count": 13,
   "id": "5e23afa9",
   "metadata": {},
   "outputs": [
    {
     "data": {
      "text/plain": [
       "102.35732888146897"
      ]
     },
     "execution_count": 13,
     "metadata": {},
     "output_type": "execute_result"
    }
   ],
   "source": [
    "#Average customer spent on DVD rentals\n",
    "customer[\"customer_spent\"].mean()"
   ]
  },
  {
   "cell_type": "code",
   "execution_count": 15,
   "id": "b9423b74",
   "metadata": {},
   "outputs": [],
   "source": [
    "#Adding '% of total amount spend' column to see how much in %, single customer paid as compared to all expenditures on dvds.\n",
    "customer[\"% of total amount spend\"] = customer[\"customer_spent\"] / total_amount_spent *100"
   ]
  },
  {
   "cell_type": "code",
   "execution_count": 16,
   "id": "c3e5a995",
   "metadata": {},
   "outputs": [
    {
     "data": {
      "text/html": [
       "<div>\n",
       "<style scoped>\n",
       "    .dataframe tbody tr th:only-of-type {\n",
       "        vertical-align: middle;\n",
       "    }\n",
       "\n",
       "    .dataframe tbody tr th {\n",
       "        vertical-align: top;\n",
       "    }\n",
       "\n",
       "    .dataframe thead th {\n",
       "        text-align: right;\n",
       "    }\n",
       "</style>\n",
       "<table border=\"1\" class=\"dataframe\">\n",
       "  <thead>\n",
       "    <tr style=\"text-align: right;\">\n",
       "      <th></th>\n",
       "      <th>customer_id</th>\n",
       "      <th>customer_spent</th>\n",
       "      <th>first_name</th>\n",
       "      <th>last_name</th>\n",
       "      <th>full_name</th>\n",
       "      <th>address_id</th>\n",
       "      <th>district</th>\n",
       "      <th>city_id</th>\n",
       "      <th>city</th>\n",
       "      <th>% of total amount spend</th>\n",
       "    </tr>\n",
       "  </thead>\n",
       "  <tbody>\n",
       "    <tr>\n",
       "      <th>0</th>\n",
       "      <td>148</td>\n",
       "      <td>211.55</td>\n",
       "      <td>Eleanor</td>\n",
       "      <td>Hunt</td>\n",
       "      <td>Eleanor Hunt</td>\n",
       "      <td>152</td>\n",
       "      <td>Saint-Denis</td>\n",
       "      <td>442</td>\n",
       "      <td>Saint-Denis</td>\n",
       "      <td>0.345038</td>\n",
       "    </tr>\n",
       "    <tr>\n",
       "      <th>1</th>\n",
       "      <td>526</td>\n",
       "      <td>208.58</td>\n",
       "      <td>Karl</td>\n",
       "      <td>Seal</td>\n",
       "      <td>Karl Seal</td>\n",
       "      <td>532</td>\n",
       "      <td>Florida</td>\n",
       "      <td>101</td>\n",
       "      <td>Cape Coral</td>\n",
       "      <td>0.340194</td>\n",
       "    </tr>\n",
       "    <tr>\n",
       "      <th>2</th>\n",
       "      <td>178</td>\n",
       "      <td>194.61</td>\n",
       "      <td>Marion</td>\n",
       "      <td>Snyder</td>\n",
       "      <td>Marion Snyder</td>\n",
       "      <td>182</td>\n",
       "      <td>So Paulo</td>\n",
       "      <td>456</td>\n",
       "      <td>Santa Brbara dOeste</td>\n",
       "      <td>0.317409</td>\n",
       "    </tr>\n",
       "    <tr>\n",
       "      <th>3</th>\n",
       "      <td>137</td>\n",
       "      <td>191.62</td>\n",
       "      <td>Rhonda</td>\n",
       "      <td>Kennedy</td>\n",
       "      <td>Rhonda Kennedy</td>\n",
       "      <td>141</td>\n",
       "      <td>Gelderland</td>\n",
       "      <td>29</td>\n",
       "      <td>Apeldoorn</td>\n",
       "      <td>0.312532</td>\n",
       "    </tr>\n",
       "    <tr>\n",
       "      <th>4</th>\n",
       "      <td>144</td>\n",
       "      <td>189.60</td>\n",
       "      <td>Clara</td>\n",
       "      <td>Shaw</td>\n",
       "      <td>Clara Shaw</td>\n",
       "      <td>148</td>\n",
       "      <td>Minsk</td>\n",
       "      <td>340</td>\n",
       "      <td>Molodetno</td>\n",
       "      <td>0.309238</td>\n",
       "    </tr>\n",
       "  </tbody>\n",
       "</table>\n",
       "</div>"
      ],
      "text/plain": [
       "   customer_id  customer_spent first_name last_name       full_name  \\\n",
       "0          148          211.55    Eleanor      Hunt    Eleanor Hunt   \n",
       "1          526          208.58       Karl      Seal       Karl Seal   \n",
       "2          178          194.61     Marion    Snyder   Marion Snyder   \n",
       "3          137          191.62     Rhonda   Kennedy  Rhonda Kennedy   \n",
       "4          144          189.60      Clara      Shaw      Clara Shaw   \n",
       "\n",
       "   address_id     district  city_id                 city  \\\n",
       "0         152  Saint-Denis      442          Saint-Denis   \n",
       "1         532      Florida      101           Cape Coral   \n",
       "2         182     So Paulo      456  Santa Brbara dOeste   \n",
       "3         141   Gelderland       29            Apeldoorn   \n",
       "4         148        Minsk      340            Molodetno   \n",
       "\n",
       "   % of total amount spend  \n",
       "0                 0.345038  \n",
       "1                 0.340194  \n",
       "2                 0.317409  \n",
       "3                 0.312532  \n",
       "4                 0.309238  "
      ]
     },
     "execution_count": 16,
     "metadata": {},
     "output_type": "execute_result"
    }
   ],
   "source": [
    "customer.head(5)"
   ]
  },
  {
   "cell_type": "code",
   "execution_count": 82,
   "id": "37572c08",
   "metadata": {},
   "outputs": [
    {
     "data": {
      "text/plain": [
       "Buenos Aires    10\n",
       "West Bengali     9\n",
       "California       9\n",
       "Name: district, dtype: int64"
      ]
     },
     "execution_count": 82,
     "metadata": {},
     "output_type": "execute_result"
    }
   ],
   "source": [
    "#Number of unique customers per district\n",
    "customer['district'].value_counts().head(3)"
   ]
  },
  {
   "cell_type": "code",
   "execution_count": 41,
   "id": "cc082479",
   "metadata": {},
   "outputs": [],
   "source": [
    "#GROUPING by district\n",
    "area = customer.groupby(\"district\")"
   ]
  },
  {
   "cell_type": "code",
   "execution_count": 55,
   "id": "cf0eda26",
   "metadata": {
    "scrolled": true
   },
   "outputs": [
    {
     "data": {
      "text/plain": [
       "district\n",
       "Buenos Aires    1029.48\n",
       "California       943.78\n",
       "So Paulo         919.82\n",
       "West Bengali     915.75\n",
       "Shandong         858.85\n",
       "Name: customer_spent, dtype: float64"
      ]
     },
     "execution_count": 55,
     "metadata": {},
     "output_type": "execute_result"
    }
   ],
   "source": [
    "#SUM of dollar amount spent per district. Top 5\n",
    "area['customer_spent'].sum().sort_values(ascending = False).head(5)"
   ]
  },
  {
   "cell_type": "code",
   "execution_count": 67,
   "id": "c41411dd",
   "metadata": {
    "scrolled": true
   },
   "outputs": [],
   "source": [
    "#assigning output to the new variable \"area_plot\"\n",
    "area_plot = area['customer_spent'].sum().sort_values(ascending = False).head(5)"
   ]
  },
  {
   "cell_type": "markdown",
   "id": "6471bf07",
   "metadata": {},
   "source": [
    "### Total dollar amount spent on DVDs per distict"
   ]
  },
  {
   "cell_type": "code",
   "execution_count": 83,
   "id": "e0992ce1",
   "metadata": {},
   "outputs": [
    {
     "data": {
      "text/plain": [
       "<AxesSubplot:title={'center':'Total dollar amount spent on DVDs per \"district\"'}, xlabel='total $ amount expenditure on DVDs', ylabel='district'>"
      ]
     },
     "execution_count": 83,
     "metadata": {},
     "output_type": "execute_result"
    },
    {
     "data": {
      "image/png": "[encoded data removed]",
      "text/plain": [
       "<Figure size 432x288 with 1 Axes>"
      ]
     },
     "metadata": {
      "needs_background": "light"
     },
     "output_type": "display_data"
    }
   ],
   "source": [
    "plt.title('Total dollar amount spent on DVDs per \"district\"')\n",
    "plt.xlabel('total $ amount expenditure on DVDs')\n",
    "area_plot.sort_values(ascending = True).plot(kind = 'barh', color = ['red', 'blue', 'orange', 'black', 'green'])"
   ]
  },
  {
   "cell_type": "code",
   "execution_count": null,
   "id": "6644748d",
   "metadata": {},
   "outputs": [],
   "source": []
  }
 ],
 "metadata": {
  "kernelspec": {
   "display_name": "Python 3 (ipykernel)",
   "language": "python",
   "name": "python3"
  },
  "language_info": {
   "codemirror_mode": {
    "name": "ipython",
    "version": 3
   },
   "file_extension": ".py",
   "mimetype": "text/x-python",
   "name": "python",
   "nbconvert_exporter": "python",
   "pygments_lexer": "ipython3",
   "version": "3.9.7"
  }
 },
 "nbformat": 4,
 "nbformat_minor": 5
}
