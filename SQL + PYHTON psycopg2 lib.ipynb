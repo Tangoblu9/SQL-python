{
 "cells": [
  {
   "cell_type": "markdown",
   "id": "8e3c36c9",
   "metadata": {},
   "source": [
    "PostgreSQL with Python psycopg2 library"
   ]
  },
  {
   "cell_type": "code",
   "execution_count": 27,
   "id": "18c28c03",
   "metadata": {},
   "outputs": [],
   "source": [
    "#1 install: pip install psycopg2\n",
    "import psycopg2 as pg2"
   ]
  },
  {
   "cell_type": "code",
   "execution_count": 38,
   "id": "86310223",
   "metadata": {},
   "outputs": [],
   "source": [
    "# Password from POSTGRES_SQL\n",
    "# secret = 'Pzawod12'  "
   ]
  },
  {
   "cell_type": "code",
   "execution_count": 66,
   "id": "57a72782",
   "metadata": {},
   "outputs": [],
   "source": [
    "#CONNECTING DATABASE from your SQL database - test database: dvdrental\n",
    "conn = pg2.connect(database = 'dvdrental', user = 'postgres', password = secret )"
   ]
  },
  {
   "cell_type": "code",
   "execution_count": 68,
   "id": "26448d03",
   "metadata": {},
   "outputs": [],
   "source": [
    "cur = conn.cursor()"
   ]
  },
  {
   "cell_type": "code",
   "execution_count": 69,
   "id": "190e4256",
   "metadata": {
    "scrolled": true
   },
   "outputs": [],
   "source": [
    "# EXECUTE - let you use postgreSQL query language\n",
    "cur.execute('SELECT staff_id, payment_date FROM payment')"
   ]
  },
  {
   "cell_type": "code",
   "execution_count": 71,
   "id": "60d2f31e",
   "metadata": {},
   "outputs": [
    {
     "data": {
      "text/plain": [
       "(1, datetime.datetime(2007, 2, 16, 17, 23, 14, 996577))"
      ]
     },
     "execution_count": 71,
     "metadata": {},
     "output_type": "execute_result"
    }
   ],
   "source": [
    "#first row of data\n",
    "cur.fetchone()"
   ]
  },
  {
   "cell_type": "code",
   "execution_count": 72,
   "id": "49cc647b",
   "metadata": {},
   "outputs": [
    {
     "data": {
      "text/plain": [
       "[(1, datetime.datetime(2007, 2, 16, 22, 41, 45, 996577)),\n",
       " (2, datetime.datetime(2007, 2, 19, 19, 39, 56, 996577))]"
      ]
     },
     "execution_count": 72,
     "metadata": {},
     "output_type": "execute_result"
    }
   ],
   "source": [
    "# how many rows i want to extract\n",
    "cur.fetchmany(2)"
   ]
  },
  {
   "cell_type": "code",
   "execution_count": 75,
   "id": "4f87d2ef",
   "metadata": {},
   "outputs": [],
   "source": [
    "conn.close()"
   ]
  },
  {
   "cell_type": "code",
   "execution_count": null,
   "id": "646ccfaf",
   "metadata": {},
   "outputs": [],
   "source": []
  }
 ],
 "metadata": {
  "kernelspec": {
   "display_name": "Python 3 (ipykernel)",
   "language": "python",
   "name": "python3"
  },
  "language_info": {
   "codemirror_mode": {
    "name": "ipython",
    "version": 3
   },
   "file_extension": ".py",
   "mimetype": "text/x-python",
   "name": "python",
   "nbconvert_exporter": "python",
   "pygments_lexer": "ipython3",
   "version": "3.9.7"
  }
 },
 "nbformat": 4,
 "nbformat_minor": 5
}
